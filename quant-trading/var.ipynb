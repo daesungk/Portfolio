{
 "cells": [
  {
   "cell_type": "markdown",
   "id": "39049294-b62b-496b-acb6-442413d2add6",
   "metadata": {},
   "source": [
    "# VaR"
   ]
  },
  {
   "cell_type": "code",
   "execution_count": 15,
   "id": "3554bfef-96d7-434e-81d8-9e4a843ef546",
   "metadata": {},
   "outputs": [],
   "source": [
    "import yfinance as yf\n",
    "import pandas as pd\n",
    "import numpy as np\n",
    "from scipy.stats import norm"
   ]
  },
  {
   "cell_type": "code",
   "execution_count": 16,
   "id": "659bef8f-7d42-405f-97af-6bd48e4fc3ce",
   "metadata": {},
   "outputs": [],
   "source": [
    "tickers = [\n",
    "    \"JPM\",   # JPMorgan Chase & Co.\n",
    "    \"V\",     # Visa Inc.\n",
    "    \"MA\",    # Mastercard Inc.\n",
    "    \"BAC\",   # Bank of America Corp.\n",
    "    \"WFC\",   # Wells Fargo & Co.\n",
    "    \"MS\",    # Morgan Stanley\n",
    "    \"AXP\",   # American Express Co.\n",
    "    \"GS\",    # Goldman Sachs Group Inc.\n",
    "    \"SPGI\",  # S&P Global Inc.\n",
    "    \"CME\"    # CME Group Inc.\n",
    "]\n",
    "\n",
    "data = yf.download(\n",
    "    tickers,\n",
    "    start=\"2023-01-01\",\n",
    "    end=\"2025-04-29\",\n",
    "    progress=False\n",
    ")\n",
    "price= data[\"Close\"][tickers].dropna()\n",
    "\n",
    "returns = price.pct_change().apply(lambda r: np.log(1 + r)).dropna()"
   ]
  },
  {
   "cell_type": "code",
   "execution_count": 17,
   "id": "2c24c137-7591-4d5f-b787-4a7d4de729b8",
   "metadata": {},
   "outputs": [
    {
     "name": "stdout",
     "output_type": "stream",
     "text": [
      "Historical VaR(99%): 3.17%\n"
     ]
    }
   ],
   "source": [
    "def historical_var(returns, alpha=0.01):\n",
    "    port_rets = returns.mean(axis=1)  \n",
    "    return -port_rets.quantile(alpha)\n",
    "\n",
    "var_hist_99 = historical_var(returns, alpha=0.01)\n",
    "print(f\"Historical VaR(99%): {var_hist_99:.2%}\")\n"
   ]
  },
  {
   "cell_type": "code",
   "execution_count": 18,
   "id": "bdcbc5f2-4847-48f4-90a7-e3f6434b6ed5",
   "metadata": {},
   "outputs": [
    {
     "name": "stdout",
     "output_type": "stream",
     "text": [
      "Parametric VaR(99%): 2.64%\n"
     ]
    }
   ],
   "source": [
    "def parametric_var(returns, alpha=0.01):\n",
    "    port_rets = returns.mean(axis=1)\n",
    "    μ = port_rets.mean()\n",
    "    σ = port_rets.std(ddof=1)\n",
    "    z = norm.ppf(alpha)\n",
    "    # Since z < 0, VaR = –(μ + z·σ)\n",
    "    return -(μ + z * σ)\n",
    "\n",
    "var_para_99 = parametric_var(returns, alpha=0.01)\n",
    "print(f\"Parametric VaR(99%): {var_para_99:.2%}\")"
   ]
  },
  {
   "cell_type": "code",
   "execution_count": 19,
   "id": "6b3bbda3-c0a7-4236-a5c2-4d1433c76254",
   "metadata": {},
   "outputs": [
    {
     "name": "stdout",
     "output_type": "stream",
     "text": [
      "Monte Carlo VaR(99%): 2.66%\n"
     ]
    }
   ],
   "source": [
    "def monte_carlo_var(returns, alpha=0.01, n_sims=10_000):\n",
    "    port_rets = returns.mean(axis=1)\n",
    "    μ = port_rets.mean()\n",
    "    σ = port_rets.std(ddof=1)\n",
    "    \n",
    "    sims = np.random.normal(μ, σ, size=n_sims)\n",
    "    return -np.percentile(sims, alpha*100)\n",
    "\n",
    "var_mc_99 = monte_carlo_var(returns, alpha=0.01)\n",
    "print(f\"Monte Carlo VaR(99%): {var_mc_99:.2%}\")"
   ]
  },
  {
   "cell_type": "code",
   "execution_count": 21,
   "id": "a5ca0a71-b0fe-4993-a190-e88796cc01c8",
   "metadata": {},
   "outputs": [
    {
     "name": "stdout",
     "output_type": "stream",
     "text": [
      "Breach rate: 7/580 = 1.21%\n"
     ]
    }
   ],
   "source": [
    "port_rets = returns.mean(axis=1)\n",
    "\n",
    "rolling_var = -port_rets.rolling(window=250).quantile(0.01)\n",
    "\n",
    "def backtest_var(port_rets, var_series):\n",
    "    # breach if actual return < –VaR\n",
    "    breaches = port_rets < -var_series\n",
    "    return breaches.sum(), len(breaches), breaches.mean()\n",
    "\n",
    "breach_count, total, breach_rate = backtest_var(\n",
    "    port_rets.loc[rolling_var.index],\n",
    "    rolling_var\n",
    ")\n",
    "\n",
    "print(f\"Breach rate: {breach_count}/{total} = {breach_rate:.2%}\")\n"
   ]
  }
 ],
 "metadata": {
  "kernelspec": {
   "display_name": "Python 3 (ipykernel)",
   "language": "python",
   "name": "python3"
  },
  "language_info": {
   "codemirror_mode": {
    "name": "ipython",
    "version": 3
   },
   "file_extension": ".py",
   "mimetype": "text/x-python",
   "name": "python",
   "nbconvert_exporter": "python",
   "pygments_lexer": "ipython3",
   "version": "3.9.6"
  }
 },
 "nbformat": 4,
 "nbformat_minor": 5
}
